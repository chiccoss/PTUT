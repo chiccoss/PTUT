{
 "cells": [
  {
   "cell_type": "code",
   "execution_count": 1,
   "metadata": {},
   "outputs": [],
   "source": [
    "import importlib\n",
    "import numpy as np\n",
    "import h5py\n",
    "import os\n",
    "NBCOORDS = 3"
   ]
  },
  {
   "cell_type": "code",
   "execution_count": 2,
   "metadata": {},
   "outputs": [],
   "source": [
    "def getNbMesh(dirPath):\n",
    "    onlyfiles = next(os.walk(dirPath))[2]  # dir is your directory path as string\n",
    "    number = len(onlyfiles) #nombre de file sans les dossiers dans le dossier\n",
    "    \n",
    "    list= os.listdir(dirPath)  # dir is your directory path\n",
    "    number_files = len(list)\n",
    "\n",
    "    return number_files-number"
   ]
  },
  {
   "cell_type": "code",
   "execution_count": 30,
   "metadata": {},
   "outputs": [],
   "source": [
    "class Cellule:\n",
    "    nbCell = -1\n",
    "    def __init__(self,filePath,iteratorFile):\n",
    "        self.x_array = []\n",
    "        self.y_array = []\n",
    "        self.z_array = []\n",
    "        file = open(str(filePath)+str(iteratorFile)+\"/micromesh.geo\",\"r\")\n",
    "        for i in range(8):\n",
    "            file.readline()\n",
    "        nbCell = int(file.readline())\n",
    "        for i in range(nbCell*NBCOORDS):\n",
    "            if i < nbCell:\n",
    "                self.x_array.append(float(file.readline()))\n",
    "            if i>=nbCell and i < nbCell*2:\n",
    "                self.y_array.append(float(file.readline()))\n",
    "            if i>=nbCell*2:\n",
    "                self.z_array.append(float(file.readline()))\n",
    "        file.close()"
   ]
  },
  {
   "cell_type": "code",
   "execution_count": 31,
   "metadata": {},
   "outputs": [],
   "source": [
    "class Element_3D:\n",
    "    liste = []\n",
    "    dirPath = ''\n",
    "    def __init__(self,dirPath,nbMesh):\n",
    "        dirPath = dirPath\n",
    "        liste = [nbMesh]\n",
    "        for currentMesh in range(nbMesh):\n",
    "            self.liste.append(Cellule(dirPath,currentMesh))\n",
    "            print((currentMesh+1),\"OUT OF\",nbMesh,\"DONE\")\n"
   ]
  },
  {
   "cell_type": "code",
   "execution_count": 32,
   "metadata": {},
   "outputs": [
    {
     "name": "stdout",
     "output_type": "stream",
     "text": [
      "1 OUT OF 16 DONE\n",
      "2 OUT OF 16 DONE\n",
      "3 OUT OF 16 DONE\n",
      "4 OUT OF 16 DONE\n",
      "5 OUT OF 16 DONE\n",
      "6 OUT OF 16 DONE\n",
      "7 OUT OF 16 DONE\n",
      "8 OUT OF 16 DONE\n",
      "9 OUT OF 16 DONE\n",
      "10 OUT OF 16 DONE\n",
      "11 OUT OF 16 DONE\n",
      "12 OUT OF 16 DONE\n",
      "13 OUT OF 16 DONE\n",
      "14 OUT OF 16 DONE\n",
      "15 OUT OF 16 DONE\n",
      "16 OUT OF 16 DONE\n",
      "0.0\n",
      "0.25\n",
      "1.0\n",
      "0.5\n",
      "0.25\n"
     ]
    }
   ],
   "source": [
    "dirPath = 'C:/Users/Alexis/Desktop/ParaviewData/tree2D_advection_f1sigma0_1e-2_ccross_2_subelems0001_subfaces00_L1_K3/'\n",
    "nbMesh = getNbMesh(dirPath)\n",
    "element3D = Element_3D(dirPath,nbMesh)"
   ]
  },
  {
   "cell_type": "code",
   "execution_count": null,
   "metadata": {},
   "outputs": [],
   "source": []
  }
 ],
 "metadata": {
  "kernelspec": {
   "display_name": "Python 3",
   "language": "python",
   "name": "python3"
  },
  "language_info": {
   "codemirror_mode": {
    "name": "ipython",
    "version": 3
   },
   "file_extension": ".py",
   "mimetype": "text/x-python",
   "name": "python",
   "nbconvert_exporter": "python",
   "pygments_lexer": "ipython3",
   "version": "3.7.4"
  }
 },
 "nbformat": 4,
 "nbformat_minor": 4
}
