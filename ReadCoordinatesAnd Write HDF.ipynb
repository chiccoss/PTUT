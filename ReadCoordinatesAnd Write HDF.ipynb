{
 "cells": [
  {
   "cell_type": "code",
   "execution_count": 61,
   "metadata": {},
   "outputs": [],
   "source": [
    "import importlib\n",
    "import numpy as np\n",
    "import h5py\n",
    "import os\n",
    "NBCOORDS = 3"
   ]
  },
  {
   "cell_type": "code",
   "execution_count": 62,
   "metadata": {},
   "outputs": [],
   "source": [
    "def getNbMesh(dirPath):\n",
    "    onlyfiles = next(os.walk(dirPath))[2]  # dir is your directory path as string\n",
    "    number = len(onlyfiles) #nombre de file sans les dossiers dans le dossier\n",
    "    \n",
    "    list= os.listdir(dirPath)  # dir is your directory path\n",
    "    number_files = len(list)\n",
    "\n",
    "    return number_files-number"
   ]
  },
  {
   "cell_type": "code",
   "execution_count": 63,
   "metadata": {},
   "outputs": [],
   "source": [
    "class Cellule:\n",
    "    def __init__(self,filePath,iteratorFile):\n",
    "        self.x_array = []\n",
    "        self.y_array = []\n",
    "        self.z_array = []\n",
    "        file = open(str(filePath)+str(iteratorFile)+\"/micromesh.geo\",\"r\")\n",
    "        for i in range(8):\n",
    "            file.readline()\n",
    "        nbCell = int(file.readline())\n",
    "        for i in range(nbCell*NBCOORDS):\n",
    "            if i < nbCell:\n",
    "                self.x_array.append(float(file.readline()))\n",
    "            if i>=nbCell and i < nbCell*2:\n",
    "                self.y_array.append(float(file.readline()))\n",
    "            if i>=nbCell*2:\n",
    "                self.z_array.append(float(file.readline()))\n",
    "        file.close()"
   ]
  },
  {
   "cell_type": "code",
   "execution_count": 89,
   "metadata": {},
   "outputs": [],
   "source": [
    "class Element_3D:\n",
    "    liste = []\n",
    "    dirPath = ''\n",
    "    nbMesh = 0\n",
    "    def __init__(self,dirPath):\n",
    "        self.dirPath = dirPath\n",
    "        self.nbMesh = getNbMesh(dirPath)\n",
    "        liste = [self.nbMesh]\n",
    "        print(\"Reading coordinates...\")\n",
    "        for currentMesh in range(self.nbMesh):\n",
    "            self.liste.append(Cellule(dirPath,currentMesh))\n",
    "            print(\"   \",str(currentMesh+1),\"out of\",self.nbMesh,\"mesh read\")\n",
    "            \n",
    "            \n",
    "    def exportHDF(self):\n",
    "        print(\"Exporting to HDF...\")\n",
    "        with h5py.File('C:/Users/Alexis/Desktop/ParaviewData/hdf5_Test.h5','w') as hdf:\n",
    "            for currentGridCell in range(9): #need number of cells in grid  \n",
    "                for currentMesh in range(self.nbMesh):\n",
    "                    Group = hdf.create_group((\"GridCell{}\".format(currentGridCell))+(\"/Mesh{}\".format(currentMesh)))\n",
    "                    #TODO if cell in currentGridCell\n",
    "                    matrixX = np.array(element3D.liste[currentMesh].x_array)\n",
    "                    matrixY = np.array(element3D.liste[currentMesh].y_array)\n",
    "                    matrixZ = np.array(element3D.liste[currentMesh].z_array)\n",
    "                    Group.create_dataset(\"Mesh{}_X\".format(currentMesh), data = matrixX, compression = 'gzip', compression_opts = 9)\n",
    "                    Group.create_dataset(\"Mesh{}_Y\".format(currentMesh), data = matrixY, compression = 'gzip', compression_opts = 9)\n",
    "                    Group.create_dataset(\"Mesh{}_Z\".format(currentMesh), data = matrixZ, compression = 'gzip', compression_opts = 9)\n",
    "                    #END TODO IF\n",
    "                print(\"   \",str(currentGridCell+1),\"out of\",9,\"GridCell exported\")"
   ]
  },
  {
   "cell_type": "code",
   "execution_count": 90,
   "metadata": {},
   "outputs": [
    {
     "name": "stdout",
     "output_type": "stream",
     "text": [
      "Reading coordinates...\n",
      "    1 out of 16 mesh read\n",
      "    2 out of 16 mesh read\n",
      "    3 out of 16 mesh read\n",
      "    4 out of 16 mesh read\n",
      "    5 out of 16 mesh read\n",
      "    6 out of 16 mesh read\n",
      "    7 out of 16 mesh read\n",
      "    8 out of 16 mesh read\n",
      "    9 out of 16 mesh read\n",
      "    10 out of 16 mesh read\n",
      "    11 out of 16 mesh read\n",
      "    12 out of 16 mesh read\n",
      "    13 out of 16 mesh read\n",
      "    14 out of 16 mesh read\n",
      "    15 out of 16 mesh read\n",
      "    16 out of 16 mesh read\n",
      "Exporting to HDF...\n",
      "    1 out of 9 GridCell exported\n",
      "    2 out of 9 GridCell exported\n",
      "    3 out of 9 GridCell exported\n",
      "    4 out of 9 GridCell exported\n",
      "    5 out of 9 GridCell exported\n",
      "    6 out of 9 GridCell exported\n",
      "    7 out of 9 GridCell exported\n",
      "    8 out of 9 GridCell exported\n",
      "    9 out of 9 GridCell exported\n"
     ]
    }
   ],
   "source": [
    "dirPath = 'C:/Users/Alexis/Desktop/ParaviewData/tree2D_advection_f1sigma0_1e-2_ccross_2_subelems0001_subfaces00_L1_K3/'\n",
    "\n",
    "element3D = Element_3D(dirPath)\n",
    "element3D.exportHDF()"
   ]
  },
  {
   "cell_type": "code",
   "execution_count": null,
   "metadata": {},
   "outputs": [],
   "source": []
  }
 ],
 "metadata": {
  "kernelspec": {
   "display_name": "Python 3",
   "language": "python",
   "name": "python3"
  },
  "language_info": {
   "codemirror_mode": {
    "name": "ipython",
    "version": 3
   },
   "file_extension": ".py",
   "mimetype": "text/x-python",
   "name": "python",
   "nbconvert_exporter": "python",
   "pygments_lexer": "ipython3",
   "version": "3.7.4"
  }
 },
 "nbformat": 4,
 "nbformat_minor": 4
}
